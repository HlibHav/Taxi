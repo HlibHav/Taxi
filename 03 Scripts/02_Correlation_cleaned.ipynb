{
 "cells": [
  {
   "cell_type": "markdown",
   "id": "2e078a05-a0e7-49fd-9d1c-3e32a5f9839d",
   "metadata": {},
   "source": [
    "# 🎯 Fraud Detection in Ride Payments\n",
    "\n",
    "This notebook explores patterns in failed transactions to identify potential fraud signals among first-time users and prepare data for predictive modeling.\n",
    "\n",
    "## Project Goals\n",
    "\n",
    "- **[Data Analyst]** Identify behavioral and contextual patterns to detect first-time fraudulent users\n",
    "- **[Product Manager]** Based on findings, propose top 2 product/development actions to reduce failed payments (for small dev team)\n",
    "- **[Data Analyst]** Prepare a clean, feature-rich dataset for predictive modeling (success vs. fail)\n",
    "\n",
    "## Table of contents\n",
    "\n",
    "- **Exploratory analysis**\n",
    "- **Data check**\n",
    "- **Exploring Relationships**\n",
    "- **Scatterplots**\n",
    "- **Pairplots**\n",
    "- **Categorical Plots**"
   ]
  },
  {
   "cell_type": "markdown",
   "id": "47f86953-374a-4d77-ae18-33a9269cf900",
   "metadata": {},
   "source": [
    "### 1. Exploratory analysis"
   ]
  },
  {
   "cell_type": "code",
   "execution_count": null,
   "id": "846cbd36-7875-41e3-96f0-3fb7c689e15c",
   "metadata": {},
   "outputs": [],
   "source": [
    "import pandas as pd\n",
    "import numpy as np\n",
    "import seaborn as sns\n",
    "import matplotlib.pyplot as plt\n",
    "import matplotlib\n",
    "import os"
   ]
  },
  {
   "cell_type": "code",
   "execution_count": null,
   "id": "2c57f616-6a35-4438-b863-b1f67653ee0d",
   "metadata": {},
   "outputs": [],
   "source": [
    "# This option ensures the charts you create are displayed in the notebook without the need to \"call\" them specifically.\n",
    "\n",
    "%matplotlib inline"
   ]
  },
  {
   "cell_type": "code",
   "execution_count": null,
   "id": "5d51b67d-57bc-4f4d-962a-8fa5583096d9",
   "metadata": {},
   "outputs": [],
   "source": [
    "# Importing Scheduled rides\n",
    "path = \"/Users/Glebazzz/Jupiter/Taxi\" \n",
    "df = pd.read_csv(os.path.join(path, '02 Data', 'Prepared Data', 'orders_taxi.csv'))\n",
    "\n",
    "#check types of colomns\n",
    "df.dtypes"
   ]
  },
  {
   "cell_type": "code",
   "execution_count": null,
   "id": "e6b7192b-b07c-4a04-8323-e0e6a9fdb487",
   "metadata": {},
   "outputs": [],
   "source": [
    "df.shape"
   ]
  },
  {
   "cell_type": "markdown",
   "id": "7dd996fc-1b75-4704-8905-0c33a4887dc3",
   "metadata": {},
   "source": [
    "### 2. Data check"
   ]
  },
  {
   "cell_type": "markdown",
   "id": "f14e5952-bc14-49c8-b8b7-8e330c42aaf9",
   "metadata": {},
   "source": [
    "#### Missing Values Check:"
   ]
  },
  {
   "cell_type": "code",
   "execution_count": null,
   "id": "4be2d4e1-bce5-45c9-a7a5-6fcdad5f3c72",
   "metadata": {},
   "outputs": [],
   "source": [
    "# Check for missing values\n",
    "\n",
    "df.isna().sum().sort_values(ascending=False)"
   ]
  },
  {
   "cell_type": "markdown",
   "id": "32f049aa-bead-41d0-9ac5-8d7828f6d5c1",
   "metadata": {},
   "source": [
    "### 3. Exploring Relationships"
   ]
  },
  {
   "cell_type": "code",
   "execution_count": null,
   "id": "1dfa227f-b943-4f96-a0ee-a07f4f5c36c0",
   "metadata": {},
   "outputs": [],
   "source": [
    "df[\"country_original\"] = df[\"country\"]  # <- keeps string version\n",
    "\n",
    "from sklearn.preprocessing import LabelEncoder\n",
    "\n",
    "df_encoded = df.copy()\n",
    "\n",
    "# Automatically detect all object and category columns\n",
    "label_cols = df_encoded.select_dtypes(include=['object', 'category']).columns\n",
    "\n",
    "# Encode all of them\n",
    "for col in label_cols:\n",
    "    le = LabelEncoder()\n",
    "    df_encoded[col] = le.fit_transform(df_encoded[col].astype(str))  # make sure all values are strings\n",
    "\n",
    "# Now this will work:\n",
    "df_encoded.corr()"
   ]
  },
  {
   "cell_type": "code",
   "execution_count": null,
   "id": "3cda004f-2664-4fba-972f-0f7e14a3fb6d",
   "metadata": {},
   "outputs": [],
   "source": []
  },
  {
   "cell_type": "code",
   "execution_count": null,
   "id": "f7e14161-5765-473c-8c9d-a48d821cb377",
   "metadata": {},
   "outputs": [],
   "source": [
    "correlation_matrix = df_encoded.corr()\n",
    "\n",
    "fig, ax = plt.subplots(figsize=(12, 10))  \n",
    "cax = ax.matshow(correlation_matrix, cmap='coolwarm')\n",
    "fig.colorbar(cax)\n",
    "\n",
    "ax.set_xticks(range(len(correlation_matrix.columns)))\n",
    "ax.set_yticks(range(len(correlation_matrix.columns)))\n",
    "ax.set_xticklabels(correlation_matrix.columns, rotation=90)\n",
    "ax.set_yticklabels(correlation_matrix.columns)\n",
    "\n",
    "plt.title(\"Correlation Matrix (Numeric Only)\", pad=20)\n",
    "plt.tight_layout()\n",
    "plt.show()"
   ]
  },
  {
   "cell_type": "code",
   "execution_count": null,
   "id": "0199b8a4-aec9-4dcb-bdc3-9b4d1ee6a756",
   "metadata": {},
   "outputs": [],
   "source": [
    "# Create boolean flags - whether the value is missing in the columns\n",
    "df_encoded[\"card_bin_missing\"] = df_encoded[\"card_bin\"].isna()\n",
    "df_encoded[\"city_id_missing\"] = df_encoded[\"city_id\"].isna()\n",
    "df_encoded[\"destination_missing\"] = df_encoded[\"real_destination_lat\"].isna() | df[\"real_destination_lng\"].isna()\n",
    "\n",
    "# Create a subset excluding the \"order_id\" and \"order_try_id\", \"user_id\", \"price_review_reason\", \"has_price_review\", \n",
    "# \"Name\", lat, lng, real_destination_lat, real_destination_lng, \"Unnamed: 0\", \"time\", \"date\" columns\n",
    "\n",
    "sub = df_encoded[['city_id', 'card_bin', 'failed_attempts', 'payment_status','hour', 'price_per_km', 'missing_card_bin', 'missing_city_id', 'is_successful_payment', \n",
    "          'ride_price', 'price_review_status', 'device_name','ride_distance','distance','country','device_os_version',\n",
    "         'missing_destination']]"
   ]
  },
  {
   "cell_type": "code",
   "execution_count": null,
   "id": "342e1eeb-451d-4d9d-87e8-ff27f71fa1ef",
   "metadata": {},
   "outputs": [],
   "source": [
    "correlation_matrix = sub.corr().round(2) \n",
    "\n",
    "fig, ax = plt.subplots(figsize=(12, 10))  \n",
    "cax = ax.matshow(correlation_matrix, cmap='coolwarm')\n",
    "fig.colorbar(cax)\n",
    "\n",
    "ax.set_xticks(range(len(correlation_matrix.columns)))\n",
    "ax.set_yticks(range(len(correlation_matrix.columns)))\n",
    "ax.set_xticklabels(correlation_matrix.columns, rotation=90)\n",
    "ax.set_yticklabels(correlation_matrix.columns)\n",
    "\n",
    "plt.title(\"Correlation Matrix\", pad=20)\n",
    "plt.tight_layout()\n",
    "plt.show()"
   ]
  },
  {
   "cell_type": "markdown",
   "id": "0921dfdd-91ed-43a9-8636-ba4229803889",
   "metadata": {},
   "source": [
    "## ✅ Key Takeaways: Payment Failures & Fraud Patterns\n",
    "\n",
    "---\n",
    "\n",
    "### 📊 Correlation Insights\n",
    "\n",
    "- **`failed_attempts` ↘ `payment_status`**  \n",
    "  Strong negative correlation — users with repeated failures are less likely to succeed.  \n",
    "  ➤ Action: Use as a key signal for fraud detection.\n",
    "\n",
    "- **`missing_card_bin` ↘ `payment_status`**  \n",
    "  Moderate negative correlation — missing payment info often aligns with risk.  \n",
    "  ➤ Action: Add soft-block or verification for users without card data.\n",
    "\n",
    "- **`missing_city_id` & `missing_destination`**  \n",
    "  These missing values also show some correlation with failed payments.  \n",
    "  ➤ Action: Missing geo signals = potential red flag.\n",
    "\n",
    "- **`price_review_status` & `ride_price`**  \n",
    "  Slight correlation — higher-priced rides more often trigger price review.  \n",
    "  ➤ Action: Consider price-based limits or review thresholds for first-time users.\n",
    "\n",
    "- **`is_successful_payment` vs `payment_status`**  \n",
    "  Perfect inverse correlation — expected, redundant.  \n",
    "  ➤ Action: Drop one to reduce multicollinearity in models.\n",
    "\n",
    "- **`device_name` & `device_os_version`**  \n",
    "  Weak correlation with payment outcomes, but useful for segmentation.  \n",
    "  ➤ Action: Can be used in risk profiling or clustering.\n",
    "\n",
    "---\n",
    "\n",
    "### 📌 Recommendations for Product or Modeling:\n",
    "\n",
    "- Focus on **`failed_attempts`**, **missing fields**, and **pricing behavior** for real-time detection.\n",
    "- Remove highly correlated or redundant features before modeling (e.g., `is_successful_payment`).\n",
    "- Use `device`, `country`, and `hour` features more for **segmentation**, not as strong predictors.\n",
    "- Missing value flags (`*_missing`) provide strong explanatory signals."
   ]
  },
  {
   "cell_type": "code",
   "execution_count": null,
   "id": "5072641e-1daf-4b0c-9b5a-f67fc2db432e",
   "metadata": {},
   "outputs": [],
   "source": [
    "df_encoded"
   ]
  },
  {
   "cell_type": "code",
   "execution_count": null,
   "id": "f81347e3-08b4-4054-8af0-b0f20cd03684",
   "metadata": {},
   "outputs": [],
   "source": [
    "# Round the correlation matrix\n",
    "correlation_matrix = sub.corr().round(2)\n",
    "\n",
    "# Closed subplot\n",
    "f, ax = plt.subplots(figsize=(10, 10))\n",
    "\n",
    "# Build a heat map\n",
    "sns.heatmap(correlation_matrix, annot=True, cmap='coolwarm', ax=ax)\n",
    "\n",
    "# Show graph\n",
    "plt.title(\"Correlation Heatmap (Rounded to 2 decimal places)\")\n",
    "plt.tight_layout()\n",
    "plt.show()"
   ]
  },
  {
   "cell_type": "markdown",
   "id": "02c7e786-c04e-4589-9588-0aa4b24b9fde",
   "metadata": {},
   "source": [
    "### 4. Scatterplots"
   ]
  },
  {
   "cell_type": "code",
   "execution_count": null,
   "id": "7bcdc7db-783c-486d-8430-d3d35e27336a",
   "metadata": {},
   "outputs": [],
   "source": [
    "%matplotlib inline\n",
    "sns.lmplot(x='ride_price', y='distance', data=sub)\n",
    "plt.show()"
   ]
  },
  {
   "cell_type": "markdown",
   "id": "8efda90d-bd08-40e0-bc84-e0e586d03ff5",
   "metadata": {},
   "source": [
    "### 5. Pairplots:"
   ]
  },
  {
   "cell_type": "code",
   "execution_count": null,
   "id": "66812408-3852-4e58-b81a-ae802fa7cd2f",
   "metadata": {},
   "outputs": [],
   "source": [
    "# A user is \"first-time\" if they have 0 failed_attempts (or 1st order, based on your logic)\n",
    "sub = sub.copy()\n",
    "sub[\"is_first_time_user\"] = sub[\"failed_attempts\"] == 0\n",
    "\n",
    "# Select relevant numeric features for pairwise analysis\n",
    "pairplot_vars = [\n",
    "    \"price_per_km\",\n",
    "    \"ride_price\",\n",
    "    \"ride_distance\",\n",
    "    \"failed_attempts\",\n",
    "    \"hour\",\n",
    "    \"distance\",\n",
    "    \"is_first_time_user\"\n",
    "]\n",
    "\n",
    "\n",
    "# Build the pairplot with payment_status as hue\n",
    "sns.pairplot(\n",
    "    data=sub,\n",
    "    vars=pairplot_vars,\n",
    "    hue=\"payment_status\",      # color points by payment status (success/failure)\n",
    "    palette=\"Set1\",            # color scheme\n",
    "    corner=True,               # show only the lower triangle of the matrix\n",
    "    plot_kws={\"alpha\": 0.5}    # set point transparency for better overlap visibility\n",
    ")\n",
    "\n",
    "# Add a title and adjust layout\n",
    "plt.suptitle(\"Pair Plot of Key Numeric Features by Payment Status\", y=1.02)\n",
    "plt.tight_layout()\n",
    "# Save the image \n",
    "plt.savefig(os.path.join(path, '04 Analysis', 'Visualisations', 'pairplot_payment_status.png'))\n",
    "# Show plot\n",
    "plt.show()"
   ]
  },
  {
   "cell_type": "code",
   "execution_count": null,
   "id": "35bdb2c6-2d7c-4c43-a6ee-7a9a57e4fae7",
   "metadata": {},
   "outputs": [],
   "source": [
    "# Save the image \n",
    "plt.savefig(os.path.join(path, '04 Analysis', 'Visualisations', 'pairplot_payment_status.png'))"
   ]
  },
  {
   "cell_type": "markdown",
   "id": "dee32d4a-b29d-4a50-9ff8-e457a06f8041",
   "metadata": {},
   "source": [
    "## 🔍 Pair Plot Insights: Key Features by Payment Status\n",
    "\n",
    "---\n",
    "\n",
    "### 📌 Key Observations:\n",
    "\n",
    "- **Ride Price vs. Distance**:\n",
    "  - Most rides with `payment_status = 0` (failures) cluster at low distances and extremely high prices.\n",
    "  - Some failed payments occur for **very high-priced, short rides**, suggesting price manipulation or fraud.\n",
    " \n",
    "\n",
    "- **Price per KM**:\n",
    "  - Heavily skewed — extreme outliers with very high values often lead to failed payments.\n",
    "  - Successful payments tend to fall within a lower, more stable price/km range.\n",
    "    \n",
    "\n",
    "- **Ride Distance & Total Distance**:\n",
    "  - Strong overlap, but a few anomalies (long distances with failed payments) may indicate edge cases or spoofed GPS.\n",
    "    \n",
    "\n",
    "- **Failed Attempts**:\n",
    "  - Most successful payments have 0–2 attempts.\n",
    "  - Failed payments are often preceded by **10+ attempts**, indicating automated abuse or retry fraud.\n",
    "    \n",
    "\n",
    "- **Hour of Day**:\n",
    "  - Successful payments are more common in typical user hours (7 AM – 11 PM).\n",
    "  - Failed payments are more evenly spread — especially **spikes at night (0–6 AM)** could hint at scripted fraud.\n"
   ]
  },
  {
   "cell_type": "code",
   "execution_count": null,
   "id": "42bb4c59-e25e-4f82-aeb1-28f24cc60dfe",
   "metadata": {},
   "outputs": [],
   "source": [
    "# A user is \"first-time\" if they have 0 failed_attempts (or 1st order, based on your logic)\n",
    "sub = sub.copy()\n",
    "sub[\"is_first_time_user\"] = sub[\"failed_attempts\"] == 0"
   ]
  },
  {
   "cell_type": "code",
   "execution_count": null,
   "id": "caa11a4f-2fe7-4f2e-bace-6f919dbab742",
   "metadata": {},
   "outputs": [],
   "source": [
    "# Select relevant features and include is_first_time_user\n",
    "pairplot_vars = [\n",
    "    \"price_per_km\",\n",
    "    \"ride_price\",\n",
    "    \"ride_distance\",\n",
    "    \"failed_attempts\",\n",
    "    \"hour\",\n",
    "    \"distance\",\n",
    "    \"is_first_time_user\"  # make sure this exists as a binary flag\n",
    "]\n",
    "\n",
    "# Optional: sample to improve speed\n",
    "# sub_sample = sub[pairplot_vars].sample(n=1000, random_state=42)\n",
    "\n",
    "# Build the pair plot\n",
    "pairplot = sns.pairplot(\n",
    "    data=sub,\n",
    "    vars=pairplot_vars,  # exclude is_first_time_user from axes\n",
    "    hue=\"is_first_time_user\",  # use it as color\n",
    "    palette=\"Set1\",\n",
    "    corner=True,\n",
    "    plot_kws={\"alpha\": 0.5}\n",
    ")\n",
    "\n",
    "# Add title\n",
    "plt.suptitle(\"Pair Plot of Key Features Colored by is_first_time_user\", y=1.02)\n",
    "\n",
    "\n",
    "# Save the image \n",
    "plt.savefig(os.path.join(path, '04 Analysis', 'Visualisations', 'pairplot_is_first_time_user.png'))\n",
    "# Show plot\n",
    "plt.show()\n"
   ]
  },
  {
   "cell_type": "markdown",
   "id": "e2e7438a-ded7-4154-9ee7-dde77044a0fc",
   "metadata": {},
   "source": [
    "## 🔍 Pair Plot Insights: First-Time Users vs Returning Users\n",
    "\n",
    "---\n",
    "\n",
    "### 📌 Key Observations:\n",
    "\n",
    "- **Failed Attempts**:\n",
    "  - As expected, `is_first_time_user = True` users have `failed_attempts = 0` by definition.\n",
    "  - Returning users (`False`) show a wider distribution of failed attempts — some with 5+, suggesting behavioral differences.\n",
    "\n",
    "- **Ride Price**:\n",
    "  - First-time users are **overrepresented in high-price rides**, which may indicate risk.\n",
    "  - Returning users cluster around lower ride prices, likely due to more consistent usage.\n",
    "\n",
    "- **Price per KM**:\n",
    "  - Several first-time users show **very high price/km values**, possibly related to short, overpriced rides.\n",
    "  - Returning users stay in a tighter, more expected range.\n",
    "\n",
    "- **Ride & Total Distance**:\n",
    "  - First-time users often take shorter rides, but some extreme outliers exist — both in `ride_distance` and `distance`.\n",
    "\n",
    "- **Hour of the Day**:\n",
    "  - Returning users tend to ride more during the day (peaks around business hours).\n",
    "  - First-time users are more evenly spread, including off-peak/night hours — may indicate automated or one-off usage.\n"
   ]
  },
  {
   "cell_type": "markdown",
   "id": "5e211c33-12c9-4536-bfe0-15a8a050b0e9",
   "metadata": {},
   "source": [
    "### Categorical Plots:"
   ]
  },
  {
   "cell_type": "code",
   "execution_count": null,
   "id": "648b0b7c-deea-4cf7-91a9-83681f75df1d",
   "metadata": {},
   "outputs": [],
   "source": [
    "plt.figure(figsize=(12, 6))\n",
    "sns.barplot(\n",
    "    data=df,\n",
    "    x=\"country_original\",\n",
    "    y=\"ride_price\",\n",
    "    hue=\"country_original\",\n",
    "    estimator=\"mean\",\n",
    "    errorbar=\"sd\",\n",
    "    palette=\"viridis\",\n",
    "    legend=False \n",
    ")\n",
    "\n",
    "plt.title(\"Average Ride Price by Country (with Names)\")\n",
    "plt.xlabel(\"Country\")\n",
    "plt.ylabel(\"Average Ride Price\")\n",
    "plt.xticks(rotation=45)\n",
    "plt.tight_layout()\n",
    "plt.show()"
   ]
  },
  {
   "cell_type": "markdown",
   "id": "6f7b420f-d6af-40b6-9b07-292b181b438f",
   "metadata": {},
   "source": [
    "### 📊 Key Takeaways: Average Ride Price by Country\n",
    "\n",
    "- 🇨🇦 **Canada** has the **highest average ride price** among all countries (>6000), which may indicate pricing anomalies or extreme fare variability.\n",
    "- 🇳🇬 **Nigeria** and 🇭🇺 **Hungary** also show **very high average prices** (>2500) with **large standard deviations**, suggesting wide variation in ride costs.\n",
    "- 🇰🇪 **Kenya** and 🇷🇸 **Serbia** show **moderately high average prices** (~600–1000) with less variability compared to Canada and Nigeria.\n",
    "- Most **European countries** (e.g., 🇱🇻 Latvia, 🇱🇹 Lithuania, 🇵🇱 Poland, 🇪🇪 Estonia) have **consistently low average ride prices**, often below 100.\n",
    "- 🇿🇦 **South Africa**, 🇲🇽 **Mexico**, and 🇺🇦 **Ukraine** have **low to medium average ride prices**, but with relatively large variability.\n",
    "- Some countries (e.g., 🇸🇦 **Saudi Arabia**, 🇪🇬 **Egypt**) show **extremely low or near-zero average prices**, which could indicate:\n",
    "  - Widespread use of **free rides** (e.g., promotions)\n",
    "  - Or **pricing data issues** such as incorrect currency mapping"
   ]
  },
  {
   "cell_type": "code",
   "execution_count": null,
   "id": "a353c7d1-8d61-4eb1-bd09-70cb8a911dd8",
   "metadata": {},
   "outputs": [],
   "source": [
    "sub[\"price_per_km\"].describe()"
   ]
  },
  {
   "cell_type": "code",
   "execution_count": null,
   "id": "09eb8e22-0731-4151-8485-be426ce29b71",
   "metadata": {},
   "outputs": [],
   "source": [
    "# Drop zero and extreme outliers\n",
    "filtered = sub[\n",
    "    (sub[\"price_per_km\"] > 0.0001) & \n",
    "    (sub[\"price_per_km\"] < sub[\"price_per_km\"].quantile(0.99))\n",
    "]\n",
    "\n",
    "plt.figure(figsize=(10, 6))\n",
    "sns.histplot(\n",
    "    data=filtered,\n",
    "    x=\"price_per_km\",\n",
    "    hue=\"is_first_time_user\",\n",
    "    bins=100,\n",
    "    stat=\"density\",\n",
    "    common_norm=False,\n",
    "    palette=\"Set1\",\n",
    "    element=\"step\"\n",
    ")\n",
    "\n",
    "plt.title(\"Filtered Distribution of Price per KM by First-Time User Status\")\n",
    "plt.xlabel(\"Price per KM\")\n",
    "plt.ylabel(\"Density\")\n",
    "plt.tight_layout()\n",
    "plt.show()"
   ]
  },
  {
   "cell_type": "code",
   "execution_count": null,
   "id": "b59fc4a2-b416-44f8-b5a2-12ee5074d23a",
   "metadata": {},
   "outputs": [],
   "source": []
  },
  {
   "cell_type": "markdown",
   "id": "a0c9a46f-d23b-4e00-855c-d734102663ea",
   "metadata": {},
   "source": [
    "### 📊 Key Takeaways: Price per KM Distribution by First-Time User Status\n",
    "\n",
    "- The **distribution of price per KM is heavily right-skewed**, with most values concentrated below **0.05** for both first-time and returning users.\n",
    "- **First-time users** (blue line) and **returning users** (red line) show **very similar pricing patterns**, suggesting no strong difference in per-KM pricing behavior.\n",
    "- There is **a slightly sharper peak** for first-time users around **0.01–0.02**, possibly indicating exposure to promotional or standard base pricing.\n",
    "- Extreme values beyond **0.2 price/km** are rare and shared across both groups, suggesting they are either anomalies or premium rides.\n",
    "- Overall, the **price-per-km range is narrow**, and any model that uses this variable should consider its skewed nature (e.g., using a log transformation)."
   ]
  },
  {
   "cell_type": "code",
   "execution_count": null,
   "id": "af9421e0-a1cb-43ba-ae91-e716226813d7",
   "metadata": {},
   "outputs": [],
   "source": [
    "plt.figure(figsize=(12, 5))\n",
    "\n",
    "sns.pointplot(\n",
    "    data=sub,\n",
    "    x=\"hour\",\n",
    "    y=\"ride_price\",\n",
    "    hue=\"is_first_time_user\",\n",
    "    errorbar=\"sd\",\n",
    "    palette=\"Set1\"\n",
    ")\n",
    "\n",
    "plt.title(\"Trend of Ride Price by Hour and First-Time User\")\n",
    "plt.xlabel(\"Hour of Day\")\n",
    "plt.ylabel(\"Average Ride Price\")\n",
    "plt.tight_layout()\n",
    "plt.show()"
   ]
  },
  {
   "cell_type": "code",
   "execution_count": null,
   "id": "5852cca9-b92a-4d40-bf43-002255d507ee",
   "metadata": {},
   "outputs": [],
   "source": []
  },
  {
   "cell_type": "markdown",
   "id": "b26494ce-7301-46b1-bd49-6d86b317d8ef",
   "metadata": {},
   "source": [
    "### 📊 Key Takeaways: Trend of Ride Price by Hour and First-Time User\n",
    "\n",
    "- **First-time users** (blue line) consistently have **higher average ride prices** than returning users (red line) across most hours of the day.\n",
    "- The **difference in pricing is most pronounced during late-night to early-morning hours (00:00–03:00)**, where average prices for first-time users peak.\n",
    "- Both user groups show relatively **stable price trends from 06:00 to 20:00**, suggesting more consistent pricing during the day.\n",
    "- **Price variance is significantly higher for first-time users** (longer error bars), especially at night, indicating more volatility in their pricing.\n",
    "- A notable **outlier or data quality issue appears at hour 13** for returning users (sharp drop below -1000), which should be investigated further.\n",
    "- The data suggests that **first-time users may be targeted with higher fares** or take more expensive rides on average — possibly due to:\n",
    "  - Less price sensitivity\n",
    "  - Fewer promotions\n",
    "  - Riskier behavior patterns"
   ]
  },
  {
   "cell_type": "code",
   "execution_count": null,
   "id": "ea2edc6f-ced3-4d90-b568-19997bc61c33",
   "metadata": {},
   "outputs": [],
   "source": [
    "# Filter failed users\n",
    "failed_users = sub[sub[\"payment_status\"] == 0]\n",
    "\n",
    "# Get top 10 most common card_bins among failed users\n",
    "top_bins = failed_users[\"card_bin\"].value_counts().head(10)\n",
    "\n",
    "# Plot\n",
    "plt.figure(figsize=(10, 6))\n",
    "sns.countplot(\n",
    "    y=\"card_bin\",\n",
    "    data=failed_users[failed_users[\"card_bin\"].isin(top_bins.index)],\n",
    "    order=top_bins.index,\n",
    "    \n",
    ")\n",
    "\n",
    "plt.title(\"Top 10 Card Bins Among Failed Transactions\")\n",
    "plt.xlabel(\"Count\")\n",
    "plt.ylabel(\"Card BIN\")\n",
    "plt.tight_layout()\n",
    "plt.show()"
   ]
  },
  {
   "cell_type": "markdown",
   "id": "cef4ce46-9dba-4245-8e18-785c0941951e",
   "metadata": {},
   "source": [
    "### 📊 Key Takeaways: Top 10 Card BINs Among Failed Transactions\n",
    "\n",
    "- The **most frequent card BIN** associated with failed transactions is **528497**, with over 3,500 occurrences — significantly more than any other BIN.\n",
    "- Several other BINs (e.g., **484162, 557368, 412752**) are also associated with 1,500–2,000 failures, suggesting they may be tied to specific issuers or high-risk regions.\n",
    "- There are **multiple BINs from the same leading digits (e.g., 516XXX and 557XXX)** — possibly indicating clusters of risky BINs from the same issuing bank or card scheme.\n",
    "- The **distribution is long-tailed**, with the top BIN accounting for a disproportionate share of failed transactions, which could be indicative of:\n",
    "  - A compromised issuer\n",
    "  - Prepaid or virtual cards with low success rates\n",
    "  - BINs frequently used in test or fraudulent behavior"
   ]
  },
  {
   "cell_type": "code",
   "execution_count": null,
   "id": "a03baca8-4bc9-48a0-8598-e3162062769c",
   "metadata": {},
   "outputs": [],
   "source": [
    "# Create categories of trip types\n",
    "df[\"ride_type\"] = pd.cut(\n",
    "    df[\"price\"],\n",
    "    bins=[-1, 0, 50, 200, np.inf],\n",
    "    labels=[\"free\", \"low\", \"mid\", \"high\"]\n",
    ")\n",
    "\n",
    "plt.figure(figsize=(8, 5))\n",
    "\n",
    "# Building a plot\n",
    "sns.barplot(\n",
    "    x=\"ride_type\",\n",
    "    y=\"payment_status\",\n",
    "    data=df,\n",
    "    order=[\"free\", \"low\", \"mid\", \"high\"],\n",
    "    \n",
    ")\n",
    "\n",
    "plt.title(\"Success Rate by Ride Type (Free vs Paid Tiers)\")\n",
    "plt.xlabel(\"Ride Type (by Price)\")\n",
    "plt.ylabel(\"Payment Success Rate\")\n",
    "plt.ylim(0, 1)\n",
    "plt.tight_layout()\n",
    "plt.show()"
   ]
  },
  {
   "cell_type": "markdown",
   "id": "a2766faa-23b8-498f-8782-80ad3e3a7b94",
   "metadata": {},
   "source": [
    "### 📊 Key Takeaways: Success Rate by Ride Type (Free vs Paid Tiers)\n",
    "\n",
    "- **Free rides have an overwhelmingly high failure rate**, dominating the chart — indicating that most of these transactions do not complete successfully.\n",
    "- Among **paid ride tiers** (low, mid, high), there is a **gradual increase in success rate** as price increases:\n",
    "  - **Low-priced rides** have the lowest success among paid tiers.\n",
    "  - **Mid- and high-priced rides** show relatively better performance and similar success rates.\n",
    "- This pattern suggests that **free rides may be highly targeted for fraud, abuse, or test activity**, which could be:\n",
    "  - Exploiting promotional codes\n",
    "  - Generated by bots or synthetic users\n",
    "- The chart reinforces the need to **treat free rides as a distinct risk category** in fraud detection logic."
   ]
  },
  {
   "cell_type": "code",
   "execution_count": null,
   "id": "c85ee236-8b45-4f04-8901-911494fa10a5",
   "metadata": {},
   "outputs": [],
   "source": [
    "# 1. First-time users vs. failed payment rate\n",
    "plt.figure(figsize=(6, 4))\n",
    "sns.barplot(\n",
    "    x=\"is_first_time_user\",\n",
    "    y=\"payment_status\",\n",
    "    data=df,\n",
    "    hue=\"is_first_time_user\",       \n",
    "    palette=\"coolwarm\",\n",
    "    legend=False                    \n",
    ")\n",
    "# 2. Failed attempts vs. success\n",
    "plt.figure(figsize=(10, 4))\n",
    "sns.histplot(\n",
    "    data=df[df[\"failed_attempts\"] > 0],\n",
    "    x=\"failed_attempts\",\n",
    "    hue=\"payment_status\",\n",
    "    multiple=\"stack\",\n",
    "    bins=40,\n",
    "    palette=\"Set2\"\n",
    ")\n",
    "plt.title(\"Failed Attempts Distribution by Payment Status\")\n",
    "plt.xlabel(\"Failed Attempts\")\n",
    "plt.ylabel(\"Count\")\n",
    "plt.tight_layout()\n",
    "plt.show()\n",
    "\n"
   ]
  },
  {
   "cell_type": "markdown",
   "id": "db612f01-129f-46b7-93de-a9633ca7491d",
   "metadata": {},
   "source": [
    "### 📊 Key Takeaways: First-Time User Share by Payment Status\n",
    "\n",
    "- The proportion of **first-time users** is extremely high (>95%) across **both successful and failed transactions**.\n",
    "- This suggests that the current dataset may be **heavily skewed toward first-time users**, which can:\n",
    "  - Limit the ability to distinguish behavioral patterns between new and returning users\n",
    "  - Inflate signals that may seem predictive but are actually due to sampling bias\n",
    "- Since both groups are equally dominated by first-time users, **\"is_first_time_user\" alone is not a strong discriminator** of payment outcome in this context.\n",
    "- It’s possible the system or campaign is currently onboarding a large number of new users, which should be accounted for in interpretation.\n",
    "\n",
    "### 📊 Key Takeaways: Failed Attempts Distribution by Payment Status\n",
    "\n",
    "- The **vast majority of transactions** — both successful and failed — occur with **zero or one failed attempt**, confirming that retrying is relatively uncommon.\n",
    "- However, **failed payments are more prominent at lower retry counts**, especially at 0–1 attempts.\n",
    "- As the number of failed attempts increases, the total count drops significantly, but **the share of successful payments among high retry counts is still visible**.\n",
    "- This suggests that **some users do succeed after multiple failed attempts**, highlighting a **potential conversion opportunity** if retries are allowed.\n",
    "- Very long retry chains (10+ failures) are rare, but they **could signal abuse patterns or bot-like behavior**."
   ]
  },
  {
   "cell_type": "code",
   "execution_count": null,
   "id": "0d609e26-64de-4f91-bc2f-2d3091d2215c",
   "metadata": {},
   "outputs": [],
   "source": [
    "failed_users = df[df[\"payment_status\"] == 0]\n",
    "\n",
    "# Перевір, скільки non-null card_bin\n",
    "print(\"Failed users with card_bin:\", failed_users[\"card_bin\"].notna().sum())\n",
    "\n",
    "# Виведи топ 10 бінів\n",
    "top_bins = failed_users[\"card_bin\"].value_counts().head(10)\n",
    "print(\"Top card bins:\\n\", top_bins)\n",
    "\n",
    "# Перевір, чи дані не порожні після фільтра\n",
    "filtered = failed_users[failed_users[\"card_bin\"].isin(top_bins.index)]\n",
    "print(\"Filtered rows count:\", len(filtered))"
   ]
  },
  {
   "cell_type": "code",
   "execution_count": null,
   "id": "1a575edb-abfd-4189-b15d-60ededf343eb",
   "metadata": {},
   "outputs": [],
   "source": [
    "df[\"card_bin_missing\"] = df[\"card_bin\"].isna()\n",
    "\n",
    "sns.barplot(\n",
    "    x=\"card_bin_missing\",\n",
    "    y=\"payment_status\",\n",
    "    hue=\"card_bin_missing\",     \n",
    "    data=df,\n",
    "    palette=\"Set2\",\n",
    "    legend=False                \n",
    ")\n",
    "plt.title(\"Payment Success Rate by Card BIN Availability\")\n",
    "plt.xlabel(\"Is Card BIN Missing\")\n",
    "plt.ylabel(\"Success Rate\")\n",
    "plt.ylim(0, 1)\n",
    "plt.xticks([0, 1], [\"No\", \"Yes\"])\n",
    "plt.tight_layout()\n",
    "plt.show()"
   ]
  },
  {
   "cell_type": "markdown",
   "id": "0e6e6486-6816-43f8-97f4-fbee2c1d1879",
   "metadata": {},
   "source": [
    "### 🔍 Insight: Card BIN as a Fraud Indicator\n",
    "\n",
    "A bar plot of payment success rate by `card_bin` availability reveals a **strong fraud signal**:\n",
    "\n",
    "- ✅ When the `card_bin` is **available**, success rates range between 20–30%.\n",
    "- ❌ When `card_bin` is **missing**, **100% of transactions fail**.\n",
    "\n",
    "📌 **Implication**: `card_bin_missing == True` is a highly predictive feature for fraud. It can be used as:\n",
    "- A direct input for a predictive model\n",
    "- A real-time soft-blocking condition\n",
    "- A trigger for additional user verification (e.g., phone/email validation)"
   ]
  },
  {
   "cell_type": "code",
   "execution_count": null,
   "id": "93d2f9ca-6a00-4cea-ade3-b86718292628",
   "metadata": {},
   "outputs": [],
   "source": [
    "# Створюємо таблицю перетину (кількість транзакцій)\n",
    "heatmap_data = df.pivot_table(\n",
    "    index=\"is_first_time_user\",\n",
    "    columns=\"card_bin_missing\",\n",
    "    values=\"payment_status\",   # можна також використовувати \"user_id\"\n",
    "    aggfunc=\"count\",\n",
    "    fill_value=0\n",
    ")\n",
    "\n",
    "# Візуалізація heatmap\n",
    "plt.figure(figsize=(6, 4))\n",
    "sns.heatmap(\n",
    "    heatmap_data,\n",
    "    annot=True,\n",
    "    fmt=\"d\",\n",
    "    cmap=\"Reds\",\n",
    "    cbar=False,\n",
    "    xticklabels=[\"BIN Present\", \"BIN Missing\"],\n",
    "    yticklabels=[\"Returning\", \"First-Time\"]\n",
    ")\n",
    "\n",
    "plt.title(\"Transactions by Card BIN Availability and User Type\")\n",
    "plt.xlabel(\"Card BIN Missing\")\n",
    "plt.ylabel(\"User Type\")\n",
    "plt.tight_layout()\n",
    "plt.show()"
   ]
  },
  {
   "cell_type": "markdown",
   "id": "1a3db189-7058-488d-94a8-21a19499d1df",
   "metadata": {},
   "source": [
    "### 📊 Key Takeaways: Card BIN Availability by User Type\n",
    "\n",
    "- The vast majority of transactions have a **valid Card BIN present**, regardless of user type:\n",
    "  - **165,332** for first-time users\n",
    "  - **45,637** for returning users\n",
    "- **Missing BINs are extremely rare**, accounting for:\n",
    "  - Only **96** first-time user transactions\n",
    "  - Only **69** returning user transactions\n",
    "- **First-time users dominate transaction volume overall**, and this holds true even when filtering by BIN presence.\n",
    "- The negligible amount of missing BIN values suggests that **missing BIN is not a widespread data issue**, but could still be worth flagging when it occurs — particularly among new users.\n"
   ]
  },
  {
   "cell_type": "markdown",
   "id": "2a393dcc-5dc4-46e6-bab7-a566ef1bbc7d",
   "metadata": {},
   "source": [
    "# ✅ Fraud Detection – Question Summary Table\n",
    "\n",
    "| **Category**                    | **Question**                                                                                         | **Answer / Insight**                                                                                       | **Status**         | **Action / Next Step**                                               |\n",
    "|--------------------------------|------------------------------------------------------------------------------------------------------|-------------------------------------------------------------------------------------------------------------|--------------------|-----------------------------------------------------------------------|\n",
    "| 🧍 User Behavior                | Are first-time users more likely to fail?                                                            | Not yet analyzed – needs user grouping by `user_id`.                                                        | 🔍 To Do           | Feature engineer \"first-time user\" flag                              |\n",
    "|                                | Failure rate vs. `failed_attempts`?                                                                  | Strong negative correlation – more failures → lower success rate.                                          | ✅ Confirmed       | Use in model and flag logic                                          |\n",
    "|                                | Common traits among repeat failed users?                                                             | Weak correlation with `device_name`, `os_version`, `card_bin`.                                              | ☑️ Partial         | Use for clustering/segmentation                                      |\n",
    "|                                | Can we cluster users by behavior?                                                                    | Not yet done.                                                                                                | 🔍 To Do           | Try KMeans or DBSCAN with engineered features                        |\n",
    "|                                | Which device models + OS versions fail more often?                                                   | Not analyzed.                                                                                                | 🔍 To Do           | Group by device + OS + payment_status                                |\n",
    "| 🌍 Geography & Device Risk     | Countries with highest fail rate?                                                                    | Not yet calculated.                                                                                          | 🔍 To Do           | Group `country_id` by payment_status                                 |\n",
    "|                                | Risky device–country combos?                                                                         | Not yet explored.                                                                                           | 🔍 To Do           | Pivot analysis on device × country × status                          |\n",
    "|                                | Missing `card_bin` or `city_id` correlation?                                                         | Moderate to strong negative correlation → increased failure.                                                | ✅ Confirmed       | Add to rules/heuristics                                               |\n",
    "| 💳 Payment & Pricing           | Are free or high-priced rides more likely to fail?                                                   | Yes – free rides and high-priced short rides often fail.                                                    | ✅ Confirmed       | Consider value thresholds for new users                              |\n",
    "|                                | Price-per-km threshold and failures?                                                                 | Extreme values → high failure rate.                                                                         | ✅ Confirmed       | Use for rule-based blocking or alerts                                |\n",
    "|                                | Do failed users retry or abandon?                                                                    | Not yet studied.                                                                                             | 🔍 To Do           | Analyze retry sequences per user                                     |\n",
    "| 🕐 Time Patterns               | Time-of-day failure patterns?                                                                        | Not analyzed.                                                                                                | ⏳ Pending         | Plot failure rate by hour                                            |\n",
    "|                                | Weekend or holiday spikes?                                                                          | Not yet checked.                                                                                             | ⏳ Pending         | Add temporal features                                                |\n",
    "| 🔧 Feature Evaluation          | Most predictive features?                                                                            | `failed_attempts`, `missing_card_bin`, `price`, `price_per_km`, geo-missing fields.                         | ✅ Confirmed       | Use as model input                                                   |\n",
    "|                                | Contextual failure rate (device + country + user type)?                                              | Not done yet.                                                                                                | 🔍 To Do           | Group by context and compute conversion rate                         |\n",
    "|                                | Effect of soft-block simulation?                                                                     | Not tested yet.                                                                                              | 🔍 To Do           | Simulate filter + compare metrics                                    |\n",
    "| 🔁 Product Strategy Support    | Would card validation before ride reduce fails?                                                      | To be simulated.                                                                                             | 🔍 To Do           | Calculate based on card_bin presence                                 |\n",
    "|                                | Should we limit high-value rides for new users?                                                      | Needs trade-off simulation.                                                                                  | 🔍 To Do           | Segment users and model impact                                       |\n",
    "|                                | Should we cap retries?                                                                               | Retry behavior not yet analyzed.                                                                            | 🔍 To Do           | Analyze per-user retry patterns                                      |\n",
    "|                                | Would soft-gate (verify phone/email) help?                                                           | Potentially useful — needs testing.                                                                         | 💡 Hypothesis      | Simulate with historical risky profiles                              |\n",
    "\n",
    "---\n",
    "\n",
    "## 🧪 Hypotheses\n",
    "\n",
    "| **#** | **Hypothesis**                                                                                  |\n",
    "|------|--------------------------------------------------------------------------------------------------|\n",
    "| 1    | Users with 2+ failed attempts are significantly less likely to succeed.                         |\n",
    "| 2    | Missing `card_bin` or `city_id` strongly correlates with failure.                               |\n",
    "| 3    | High-priced, short-distance rides are often fraudulent.                                         |\n",
    "| 4    | Outliers in `price_per_km` are highly predictive of failure.                                    |\n",
    "| 5    | Device–country combinations may help reveal fraud clusters.                                     |"
   ]
  }
 ],
 "metadata": {
  "kernelspec": {
   "display_name": "Python [conda env:base] *",
   "language": "python",
   "name": "conda-base-py"
  },
  "language_info": {
   "codemirror_mode": {
    "name": "ipython",
    "version": 3
   },
   "file_extension": ".py",
   "mimetype": "text/x-python",
   "name": "python",
   "nbconvert_exporter": "python",
   "pygments_lexer": "ipython3",
   "version": "3.12.2"
  }
 },
 "nbformat": 4,
 "nbformat_minor": 5
}
